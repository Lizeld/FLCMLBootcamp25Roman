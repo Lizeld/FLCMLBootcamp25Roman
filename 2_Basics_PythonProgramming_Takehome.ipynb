{
  "nbformat": 4,
  "nbformat_minor": 0,
  "metadata": {
    "colab": {
      "provenance": [],
      "toc_visible": true,
      "include_colab_link": true
    },
    "kernelspec": {
      "name": "python3",
      "display_name": "Python 3"
    },
    "language_info": {
      "name": "python"
    }
  },
  "cells": [
    {
      "cell_type": "markdown",
      "metadata": {
        "id": "view-in-github",
        "colab_type": "text"
      },
      "source": [
        "<a href=\"https://colab.research.google.com/github/Lizeld/FLCMLBootcamp25Roman/blob/main/2_Basics_PythonProgramming_Takehome.ipynb\" target=\"_parent\"><img src=\"https://colab.research.google.com/assets/colab-badge.svg\" alt=\"Open In Colab\"/></a>"
      ]
    },
    {
      "cell_type": "markdown",
      "source": [
        "# Personal Finance 101 with Python\n",
        "\n",
        "- Investing is crucial for wealth growth, financial security, and achieving long-term financial goals.\n",
        "- One of the biggest reasons to invest is the power of compounding, which allows your money to grow exponentially over time."
      ],
      "metadata": {
        "id": "BGhlVvcyZGWp"
      }
    },
    {
      "cell_type": "markdown",
      "source": [
        "### Understanding the Compounding Effect\n",
        "\n",
        "$$ A = P * \\left( 1 + \\frac{r}{n} \\right) ^{n*t}$$\n",
        "\n",
        "Where,\n",
        "\n",
        "- A  = Final amount\n",
        "- P  = Principal (initial investment)\n",
        "- r  = Annual interest rate (as a decimal)\n",
        "- n  = Times interest is compounded per year\n",
        "- t  = Time in years\n"
      ],
      "metadata": {
        "id": "zyYa0RR2L_8n"
      }
    },
    {
      "cell_type": "code",
      "execution_count": 8,
      "metadata": {
        "id": "XrEjSeR5UQVl",
        "outputId": "f981b613-05ff-421e-9abb-01fcbeaf2a15",
        "colab": {
          "base_uri": "https://localhost:8080/"
        }
      },
      "outputs": [
        {
          "output_type": "stream",
          "name": "stdout",
          "text": [
            "Compound Interest Calculator Results:\n",
            "Principal Amount: $1000.00\n",
            "Annual Interest Rate: 10.00%\n",
            "Compounding Frequency: 1 times per year\n",
            "Number of Years: 10\n",
            "Total Amount: $2000.00\n",
            "Total Interest Earned: $1000.00\n"
          ]
        }
      ],
      "source": [
        "#@title Compound Interest Calculator\n",
        "\n",
        "#@markdown Enter the principal amount (P in $):\n",
        "principal = 1000 #@param {type:\"number\"}\n",
        "\n",
        "#@markdown Enter the annual interest rate as a percentage (r):\n",
        "interest_rate = 10 #@param {type:\"number\"}\n",
        "\n",
        "#@markdown Enter the number of times interest is compounded per year (n):\n",
        "compounding_frequency = 1 #@param {type:\"number\"}\n",
        "\n",
        "#@markdown Enter the number of years (t):\n",
        "years = 10 #@param {type:\"number\"}\n",
        "\n",
        "\n",
        "# Calculate compound interest\n",
        "# 1. Convert percentage into decimal\n",
        "interest_rate_decimal = interest_rate / 100\n",
        "\n",
        "\n",
        "# 2. Calculate the final amount (A)\n",
        "final_amount = principal*(1+(interest_rate_decimal/compounding_frequency)*(compounding_frequency*years))\n",
        "\n",
        "\n",
        "# 3. Calculate the total interest earned\n",
        "total_interest = final_amount - principal\n",
        "\n",
        "\n",
        "# Display the results\n",
        "print(\"Compound Interest Calculator Results:\")\n",
        "print(f\"Principal Amount: ${principal:.2f}\")\n",
        "print(f\"Annual Interest Rate: {interest_rate:.2f}%\")\n",
        "print(f\"Compounding Frequency: {compounding_frequency} times per year\")\n",
        "print(f\"Number of Years: {years}\")\n",
        "print(f\"Total Amount: ${final_amount:.2f}\")\n",
        "print(f\"Total Interest Earned: ${total_interest:.2f}\")\n"
      ]
    },
    {
      "cell_type": "markdown",
      "source": [
        "### Effect of starting principal (P)\n",
        "\n",
        "Write a function to calculate total amount and total interest earned for starting principal (P in $): 10, 50, 100, 500 and 1000. Assume r=5%, n=1 and t=5.\n",
        "\n",
        "Hint: Iterate over a list data structure containing 'P' values using a compound interest calculator function"
      ],
      "metadata": {
        "id": "ScJlnZfEbTUH"
      }
    },
    {
      "cell_type": "code",
      "source": [
        "# Calculate the effect of starting principal (more 'P')\n",
        "def calcInterest(principal,interest_rate,c_frequency,time):\n",
        "\n",
        "  interest_rate_decimal = interest_rate / 100\n",
        "\n",
        "  final_amount = principal*(1+(interest_rate_decimal/c_frequency)*(c_frequency*time))\n",
        "  total_interest = final_amount - principal\n",
        "\n",
        "  print(\"Compound Interest Calculator Results:\")\n",
        "  print(f\"Principal Amount: ${principal:.2f}\")\n",
        "  print(f\"Annual Interest Rate: {interest_rate:.2f}%\")\n",
        "  print(f\"Compounding Frequency: {compounding_frequency} times per year\")\n",
        "  print(f\"Number of Years: {time}\")\n",
        "  print(f\"Total Amount: ${final_amount:.2f}\")\n",
        "  print(f\"Total Interest Earned: ${total_interest:.2f}\\n\\n\")\n",
        "\n",
        "#List of starting principal values\n",
        "principal_list = [10,50,100,500,1000]\n",
        "\n",
        "for p in principal_list:\n",
        "  calcInterest(p,5,1,5)\n",
        "\n",
        "\n",
        "\n",
        "\n"
      ],
      "metadata": {
        "id": "MICZ2cnDbrZg",
        "outputId": "f9e8388f-db99-4f4a-c66d-c233d42fc462",
        "colab": {
          "base_uri": "https://localhost:8080/"
        }
      },
      "execution_count": 14,
      "outputs": [
        {
          "output_type": "stream",
          "name": "stdout",
          "text": [
            "Compound Interest Calculator Results:\n",
            "Principal Amount: $10.00\n",
            "Annual Interest Rate: 5.00%\n",
            "Compounding Frequency: 1 times per year\n",
            "Number of Years: 5\n",
            "Total Amount: $12.50\n",
            "Total Interest Earned: $2.50\n",
            "\n",
            "\n",
            "Compound Interest Calculator Results:\n",
            "Principal Amount: $50.00\n",
            "Annual Interest Rate: 5.00%\n",
            "Compounding Frequency: 1 times per year\n",
            "Number of Years: 5\n",
            "Total Amount: $62.50\n",
            "Total Interest Earned: $12.50\n",
            "\n",
            "\n",
            "Compound Interest Calculator Results:\n",
            "Principal Amount: $100.00\n",
            "Annual Interest Rate: 5.00%\n",
            "Compounding Frequency: 1 times per year\n",
            "Number of Years: 5\n",
            "Total Amount: $125.00\n",
            "Total Interest Earned: $25.00\n",
            "\n",
            "\n",
            "Compound Interest Calculator Results:\n",
            "Principal Amount: $500.00\n",
            "Annual Interest Rate: 5.00%\n",
            "Compounding Frequency: 1 times per year\n",
            "Number of Years: 5\n",
            "Total Amount: $625.00\n",
            "Total Interest Earned: $125.00\n",
            "\n",
            "\n",
            "Compound Interest Calculator Results:\n",
            "Principal Amount: $1000.00\n",
            "Annual Interest Rate: 5.00%\n",
            "Compounding Frequency: 1 times per year\n",
            "Number of Years: 5\n",
            "Total Amount: $1250.00\n",
            "Total Interest Earned: $250.00\n",
            "\n",
            "\n"
          ]
        }
      ]
    },
    {
      "cell_type": "markdown",
      "source": [
        "#### Write a simple conclusion on what the effect of starting principal (more 'P') is on a compounding interest investment?\n",
        "\n",
        "The interest rate grows proprotionally to the starting principal"
      ],
      "metadata": {
        "id": "BIcD3dEecSpq"
      }
    },
    {
      "cell_type": "markdown",
      "source": [
        "### Effect of starting early (more years of investing = more 't')\n",
        "\n",
        "Reuse the compounding interest calculator function above and determine the effect of more years of investing 't': 2yrs, 5yrs, 10yrs, 20yrs, 30yrs. Assume P=\\$100, r=5% and n=1."
      ],
      "metadata": {
        "id": "3Zi_t5Ftcsw1"
      }
    },
    {
      "cell_type": "code",
      "source": [
        "# Calculate the effect of starting early (more 't')\n",
        "time_list = [2,5,10,20,30]\n",
        "\n",
        "for t in time_list:\n",
        "  calcInterest(100,5,1,t)\n"
      ],
      "metadata": {
        "id": "a5jHCG7NdcBf",
        "outputId": "f79462da-1f30-4dc8-9f4b-14a518caf96c",
        "colab": {
          "base_uri": "https://localhost:8080/"
        }
      },
      "execution_count": 15,
      "outputs": [
        {
          "output_type": "stream",
          "name": "stdout",
          "text": [
            "Compound Interest Calculator Results:\n",
            "Principal Amount: $100.00\n",
            "Annual Interest Rate: 5.00%\n",
            "Compounding Frequency: 1 times per year\n",
            "Number of Years: 2\n",
            "Total Amount: $110.00\n",
            "Total Interest Earned: $10.00\n",
            "\n",
            "\n",
            "Compound Interest Calculator Results:\n",
            "Principal Amount: $100.00\n",
            "Annual Interest Rate: 5.00%\n",
            "Compounding Frequency: 1 times per year\n",
            "Number of Years: 5\n",
            "Total Amount: $125.00\n",
            "Total Interest Earned: $25.00\n",
            "\n",
            "\n",
            "Compound Interest Calculator Results:\n",
            "Principal Amount: $100.00\n",
            "Annual Interest Rate: 5.00%\n",
            "Compounding Frequency: 1 times per year\n",
            "Number of Years: 10\n",
            "Total Amount: $150.00\n",
            "Total Interest Earned: $50.00\n",
            "\n",
            "\n",
            "Compound Interest Calculator Results:\n",
            "Principal Amount: $100.00\n",
            "Annual Interest Rate: 5.00%\n",
            "Compounding Frequency: 1 times per year\n",
            "Number of Years: 20\n",
            "Total Amount: $200.00\n",
            "Total Interest Earned: $100.00\n",
            "\n",
            "\n",
            "Compound Interest Calculator Results:\n",
            "Principal Amount: $100.00\n",
            "Annual Interest Rate: 5.00%\n",
            "Compounding Frequency: 1 times per year\n",
            "Number of Years: 30\n",
            "Total Amount: $250.00\n",
            "Total Interest Earned: $150.00\n",
            "\n",
            "\n"
          ]
        }
      ]
    },
    {
      "cell_type": "markdown",
      "source": [
        "#### Write a simple conclusion on what the effect of starting early (more 't') is on a compounding interest investment?\n"
      ],
      "metadata": {
        "id": "dkDFHmiNdosi"
      }
    },
    {
      "cell_type": "markdown",
      "source": [
        "### Effect of better rate of return (more 'r')\n",
        "\n",
        "Reuse the compounding interest calculator function above and determine the effect of better rate of return 'r': 2%, 5%, 8% and 10%. Assume P=$100, n=1 and t=5."
      ],
      "metadata": {
        "id": "b4HolM8adwzl"
      }
    },
    {
      "cell_type": "code",
      "source": [
        "# Calculate the effect of better rate of return (more 'r')\n",
        "rate_list = [2,5,8,10]\n",
        "\n",
        "for rate in rate_list:\n",
        "  calcInterest(100,rate,1,5)\n",
        "\n"
      ],
      "metadata": {
        "id": "pbcjQ24Kew56",
        "outputId": "3596a6b3-0b4f-40bd-b8bb-378eb6f1026b",
        "colab": {
          "base_uri": "https://localhost:8080/"
        }
      },
      "execution_count": 13,
      "outputs": [
        {
          "output_type": "stream",
          "name": "stdout",
          "text": [
            "Compound Interest Calculator Results:\n",
            "Principal Amount: $100.00\n",
            "Annual Interest Rate: 2.00%\n",
            "Compounding Frequency: 1 times per year\n",
            "Number of Years: 10\n",
            "Total Amount: $110.00\n",
            "Total Interest Earned: $10.00\n",
            "\n",
            "\n",
            "Compound Interest Calculator Results:\n",
            "Principal Amount: $100.00\n",
            "Annual Interest Rate: 5.00%\n",
            "Compounding Frequency: 1 times per year\n",
            "Number of Years: 10\n",
            "Total Amount: $125.00\n",
            "Total Interest Earned: $25.00\n",
            "\n",
            "\n",
            "Compound Interest Calculator Results:\n",
            "Principal Amount: $100.00\n",
            "Annual Interest Rate: 8.00%\n",
            "Compounding Frequency: 1 times per year\n",
            "Number of Years: 10\n",
            "Total Amount: $140.00\n",
            "Total Interest Earned: $40.00\n",
            "\n",
            "\n",
            "Compound Interest Calculator Results:\n",
            "Principal Amount: $100.00\n",
            "Annual Interest Rate: 10.00%\n",
            "Compounding Frequency: 1 times per year\n",
            "Number of Years: 10\n",
            "Total Amount: $150.00\n",
            "Total Interest Earned: $50.00\n",
            "\n",
            "\n"
          ]
        }
      ]
    },
    {
      "cell_type": "markdown",
      "source": [
        "#### Write a simple conclusion on what the effect of better rate of return (more 'r') is on a compounding interest investment?"
      ],
      "metadata": {
        "id": "q5ihxgcKez4g"
      }
    },
    {
      "cell_type": "markdown",
      "source": [
        "### What happens to a compounding interest investment if you also do recurring investment (adding fixed \\$ amount in a fixed time frequency into the principal 'P')"
      ],
      "metadata": {
        "id": "8RPUEsNYe7nw"
      }
    },
    {
      "cell_type": "code",
      "source": [
        "# Write a new python function that will also take a fixed recurring deposit 'rd' every month to calculate compounding interest\n",
        "\n",
        "\n"
      ],
      "metadata": {
        "id": "PXVG53KdffHD"
      },
      "execution_count": null,
      "outputs": []
    },
    {
      "cell_type": "markdown",
      "source": [
        "#### What is the effect of disciplined investing using recurring deposits?\n",
        "\n",
        "Use the new compounding interest calculator with recurring investment to calculate the effect of disciplined investing. Assume P=$100, r=5%, n=12 (monthly compounding), t=5.\n",
        "\n",
        "Calculate for different 'rd' (in $): 0, 1, 5, 10, 50, 100"
      ],
      "metadata": {
        "id": "WoKmXBp3gaeN"
      }
    },
    {
      "cell_type": "code",
      "source": [
        "# Write code to calculate the final_amount (A) for recurring deposits into monthly compounding investment\n",
        "\n",
        "\n"
      ],
      "metadata": {
        "id": "gz8NLxgzhHlU"
      },
      "execution_count": null,
      "outputs": []
    },
    {
      "cell_type": "markdown",
      "source": [
        "#### Write a simple conclusion on what is the effect of disciplined investing using recurring deposits?"
      ],
      "metadata": {
        "id": "HzaDkeEmhRTd"
      }
    },
    {
      "cell_type": "markdown",
      "source": [
        "### What problems/decisions that you face in life can be solved using basic Python programming? Share atleast two ideas.\n",
        "\n",
        "\n"
      ],
      "metadata": {
        "id": "V1SICqGdi3bu"
      }
    },
    {
      "cell_type": "markdown",
      "source": [
        "# Final Retrospection:\n",
        "### What challenges did you face while programming with Python?\n",
        "\n",
        "\n",
        "\n",
        "### How did you overcome those challenges?\n",
        "\n",
        "\n",
        "\n",
        "### Mention other resources you used to solve this take-home assignment\n",
        "\n",
        "\n",
        "\n",
        "### Did you use any tools (like ChatGPT) to solve the issues? What are the challenges and opportunities?\n",
        "\n",
        "\n",
        "\n",
        "### After this exercise, are you feeling excited to learn more?\n",
        "\n",
        "\n",
        "\n",
        "\n",
        "NOTE: Save the file with your code and text answers before committing it to your new GitHub public repository. Send a link to your file on Github to the TA."
      ],
      "metadata": {
        "id": "gnnYEjdqhh7f"
      }
    }
  ]
}